{
 "cells": [
  {
   "cell_type": "markdown",
   "id": "664f3707-ac80-4ecc-b93d-c1e9c9a95f04",
   "metadata": {},
   "source": [
    "# **ASSIGNMENT**"
   ]
  },
  {
   "cell_type": "markdown",
   "id": "ff9391b8-f1f7-47ea-9f39-e8469764e0ad",
   "metadata": {},
   "source": [
    "**Q1. What is Bayes' theorem?**"
   ]
  },
  {
   "cell_type": "markdown",
   "id": "1defb9a4-c5e2-42f0-9c74-d2b454fea96f",
   "metadata": {},
   "source": [
    "Bayes' theorem is a fundamental concept in probability theory named after the Reverend Thomas Bayes. It provides a way of updating probability estimates based on new evidence or information. The theorem is expressed mathematically as follows:\n",
    "\n",
    "\\[ P(A|B) = \\frac{P(B|A) \\cdot P(A)}{P(B)} \\]\n",
    "\n",
    "Here's a breakdown of the terms:\n",
    "\n",
    "- \\( P(A|B) \\): This is the probability of event A occurring given that event B has occurred. It represents the updated probability of A after considering the new evidence B.\n",
    "\n",
    "- \\( P(B|A) \\): This is the probability of event B occurring given that event A has occurred. It represents the likelihood of observing the evidence B if the hypothesis A is true.\n",
    "\n",
    "- \\( P(A) \\): This is the prior probability of event A. It represents the probability of A occurring before any new evidence is taken into account.\n",
    "\n",
    "- \\( P(B) \\): This is the prior probability of event B. It represents the probability of B occurring before any consideration of A.\n",
    "\n",
    "In essence, Bayes' theorem allows us to update our beliefs about the probability of a hypothesis based on new evidence. It is widely used in statistics, machine learning, and various scientific fields, particularly in Bayesian inference where it plays a central role in updating probabilities as new data becomes available."
   ]
  },
  {
   "cell_type": "markdown",
   "id": "f2a28cf8-2392-4358-9c23-56ec842aed83",
   "metadata": {},
   "source": [
    "**Q2. What is the formula for Bayes' theorem?**"
   ]
  },
  {
   "cell_type": "markdown",
   "id": "ec891288-281b-49ef-ae7d-fffc04de5831",
   "metadata": {},
   "source": [
    "Bayes' theorem is expressed mathematically as:\n",
    "\n",
    "\\[ P(A|B) = \\frac{P(B|A) \\cdot P(A)}{P(B)} \\]\n",
    "\n",
    "Here's a breakdown of the terms in the formula:\n",
    "\n",
    "- \\( P(A|B) \\): This is the posterior probability of event A given that event B has occurred. It represents the updated probability of A after considering the new evidence B.\n",
    "\n",
    "- \\( P(B|A) \\): This is the likelihood of event B occurring given that event A has occurred. It represents the probability of observing the evidence B if the hypothesis A is true.\n",
    "\n",
    "- \\( P(A) \\): This is the prior probability of event A. It represents the probability of A occurring before any new evidence is taken into account.\n",
    "\n",
    "- \\( P(B) \\): This is the prior probability of event B. It represents the probability of B occurring before any consideration of A.\n",
    "\n",
    "Bayes' theorem is a fundamental tool in probability theory and is widely used in various fields, especially in Bayesian statistics and machine learning. It allows for the updating of probability estimates based on new information, making it a powerful tool for reasoning under uncertainty."
   ]
  },
  {
   "cell_type": "markdown",
   "id": "c2d8e1ca-2150-4002-9434-c546a89a5e7e",
   "metadata": {},
   "source": [
    "**Q3. How is Bayes' theorem used in practice?**"
   ]
  },
  {
   "cell_type": "markdown",
   "id": "2401a9af-8c1a-4360-b6b4-2c4509f0075e",
   "metadata": {},
   "source": [
    "Bayes' theorem is used in various practical applications, especially in situations involving uncertainty and probability. Here are a few common areas where Bayes' theorem is applied:\n",
    "\n",
    "1. **Medical Diagnosis:**\n",
    "   - Bayes' theorem is used in medical diagnosis to update the probability of a particular disease given certain symptoms or test results.\n",
    "   - It helps in adjusting the probability of a disease based on new diagnostic information.\n",
    "\n",
    "2. **Spam Filtering:**\n",
    "   - In email filtering systems, Bayes' theorem is employed to classify emails as spam or non-spam.\n",
    "   - It updates the probability that an email is spam given certain words or features observed in the email.\n",
    "\n",
    "3. **Machine Learning:**\n",
    "   - Bayes' theorem is a fundamental concept in Bayesian machine learning.\n",
    "   - In Bayesian inference, it is used to update probability distributions over parameters based on observed data.\n",
    "\n",
    "4. **Finance:**\n",
    "   - Bayes' theorem is used in finance for risk assessment and portfolio management.\n",
    "   - It helps in updating the probability of different financial outcomes based on new market information.\n",
    "\n",
    "5. **Quality Control:**\n",
    "   - Bayes' theorem is applied in quality control processes to update the probability of a product being defective given certain testing results.\n",
    "   - It aids in adjusting the likelihood of defects based on observed data.\n",
    "\n",
    "6. **Natural Language Processing:**\n",
    "   - In language processing tasks, such as speech recognition or language translation, Bayes' theorem can be used to update probabilities of different language models based on observed input.\n",
    "\n",
    "7. **A/B Testing:**\n",
    "   - Bayes' theorem is employed in A/B testing to update the probability that a certain change in a website or application leads to a desired outcome.\n",
    "   - It helps in making decisions about the effectiveness of changes based on observed user behavior.\n",
    "\n",
    "8. **Criminal Justice:**\n",
    "   - Bayes' theorem has been applied in legal contexts, such as assessing the probability of guilt or innocence based on evidence presented during a trial.\n",
    "\n",
    "In these applications, Bayes' theorem provides a systematic and principled way to update probabilities as new information becomes available. It's a powerful tool for reasoning under uncertainty and has broad implications across various disciplines."
   ]
  },
  {
   "cell_type": "markdown",
   "id": "026ff829-2411-4360-b544-da54802771ca",
   "metadata": {},
   "source": [
    "**Q4. What is the relationship between Bayes' theorem and conditional probability?**"
   ]
  },
  {
   "cell_type": "markdown",
   "id": "c9727186-0bc0-4fae-87eb-6ccb37689015",
   "metadata": {},
   "source": [
    "Bayes' theorem is closely related to conditional probability and is derived from it. Conditional probability is the probability of an event occurring given that another event has already occurred. Bayes' theorem provides a way to update these conditional probabilities based on new evidence. The relationship can be seen through the definition of conditional probability.\n",
    "\n",
    "The conditional probability of event A given event B is denoted as \\( P(A|B) \\) and is defined as:\n",
    "\n",
    "\\[ P(A|B) = \\frac{P(A \\cap B)}{P(B)} \\]\n",
    "\n",
    "Now, rearranging this equation, we get:\n",
    "\n",
    "\\[ P(A \\cap B) = P(A|B) \\cdot P(B) \\]\n",
    "\n",
    "Bayes' theorem is derived by substituting this expression back into the definition of conditional probability:\n",
    "\n",
    "\\[ P(A|B) = \\frac{P(B|A) \\cdot P(A)}{P(B)} \\]\n",
    "\n",
    "Here's a breakdown of the terms in this formula:\n",
    "\n",
    "- \\( P(A|B) \\): Posterior probability of event A given B.\n",
    "- \\( P(B|A) \\): Likelihood of event B given A.\n",
    "- \\( P(A) \\): Prior probability of A.\n",
    "- \\( P(B) \\): Prior probability of B.\n",
    "\n",
    "In summary, Bayes' theorem provides a way to update the probability of an event based on new information, utilizing the conditional probabilities involved. It links the prior probability of an event with the likelihood of observing certain evidence given that the event has occurred, allowing for the calculation of the updated or posterior probability."
   ]
  },
  {
   "cell_type": "markdown",
   "id": "da614408-f82b-42f7-b051-516760a1e78c",
   "metadata": {},
   "source": [
    "**Q5. How do you choose which type of Naive Bayes classifier to use for any given problem?**"
   ]
  },
  {
   "cell_type": "markdown",
   "id": "0264d1fd-0d38-42db-a553-e3cdf7d36277",
   "metadata": {},
   "source": [
    "The choice of which type of Naive Bayes classifier to use depends on the nature of the data and the assumptions you are willing to make about the independence of features. Here are the three main types of Naive Bayes classifiers, and considerations for choosing among them:\n",
    "\n",
    "1. **Gaussian Naive Bayes:**\n",
    "   - **Assumption:** Assumes that the continuous features follow a Gaussian (normal) distribution.\n",
    "   - **Use Cases:** Suitable for problems where the features are continuous and can be modeled using a Gaussian distribution, such as in natural language processing tasks involving word frequencies.\n",
    "\n",
    "2. **Multinomial Naive Bayes:**\n",
    "   - **Assumption:** Suitable for discrete data like word counts, which often follow a multinomial distribution.\n",
    "   - **Use Cases:** Commonly used in text classification tasks, where the features represent the frequency of words in a document. It's also suitable for problems with categorical features.\n",
    "\n",
    "3. **Bernoulli Naive Bayes:**\n",
    "   - **Assumption:** Assumes that features are binary (Bernoulli, boolean) variables.\n",
    "   - **Use Cases:** Appropriate for problems where the features are binary, representing the presence or absence of certain characteristics. It is often used in document classification tasks, such as spam detection.\n",
    "\n",
    "Considerations for choosing the appropriate type:\n",
    "\n",
    "- **Nature of Features:** Consider whether your features are continuous, discrete, or binary. Choose the Naive Bayes variant that aligns with the nature of your data.\n",
    "\n",
    "- **Assumption of Independence:** Naive Bayes assumes independence between features. If the independence assumption is reasonable for your data, then Naive Bayes can work well. If not, you might need to explore more complex models.\n",
    "\n",
    "- **Size of the Dataset:** Naive Bayes classifiers are known for their simplicity and computational efficiency. They can perform well even with small datasets.\n",
    "\n",
    "- **Domain Knowledge:** Consider the specific characteristics of your problem domain. Understanding the underlying assumptions of each variant and how well they align with your data is crucial.\n",
    "\n",
    "- **Experimentation:** It's often beneficial to experiment with multiple variants and compare their performance using cross-validation or other evaluation metrics to determine which works best for your specific problem.\n",
    "\n",
    "In practice, it's not always clear-cut which variant will perform best, so experimentation and evaluation on your specific dataset are essential."
   ]
  },
  {
   "cell_type": "markdown",
   "id": "b4dfe2bb-9f5b-407f-a9a3-965b813cec28",
   "metadata": {},
   "source": [
    "**Q6. Assignment:**<br>\n",
    "\n",
    "You have a dataset with two features, X1 and X2, and two possible classes, A and B. You want to use Naive\n",
    "Bayes to classify a new instance with features X1 = 3 and X2 = 4. The following table shows the frequency of\n",
    "each feature value for each class:\n",
    "Class X1=1 X1=2 X1=3 X2=1 X2=2 X2=3 X2=4<br>\n",
    "\n",
    "A 3 3 4 4 3 3 3<br>\n",
    "B 2 2 1 2 2 2 3<br>\n",
    "\n",
    "**Assuming equal prior probabilities for each class, which class would Naive Bayes predict the new instance\n",
    "to belong to?**"
   ]
  },
  {
   "cell_type": "code",
   "execution_count": 1,
   "id": "e5b54383-737b-4b83-9941-ef88cfbcc2af",
   "metadata": {},
   "outputs": [
    {
     "name": "stdout",
     "output_type": "stream",
     "text": [
      "P(A | X1=3, X2=4) = 1.000\n",
      "P(B | X1=3, X2=4) = 0.000\n",
      "Naive Bayes predicts the new instance belongs to Class A\n"
     ]
    }
   ],
   "source": [
    "import numpy as np\n",
    "\n",
    "# Given data\n",
    "data = {\n",
    "    'A': {'X1': [3, 3, 4], 'X2': [4, 3, 3, 3]},\n",
    "    'B': {'X1': [2, 2, 1], 'X2': [2, 2, 2, 3]}\n",
    "}\n",
    "\n",
    "# New instance\n",
    "new_instance = {'X1': 3, 'X2': 4}\n",
    "\n",
    "# Calculate prior probabilities\n",
    "P_A = P_B = 0.5  # Equal prior probabilities for classes A and B\n",
    "\n",
    "# Calculate likelihoods\n",
    "P_X1_3_given_A = np.mean(np.array(data['A']['X1']) == new_instance['X1'])\n",
    "P_X1_3_given_B = np.mean(np.array(data['B']['X1']) == new_instance['X1'])\n",
    "P_X2_4_given_A = np.mean(np.array(data['A']['X2']) == new_instance['X2'])\n",
    "P_X2_4_given_B = np.mean(np.array(data['B']['X2']) == new_instance['X2'])\n",
    "\n",
    "# Apply Bayes' Theorem\n",
    "P_A_given_X1_3_X2_4 = P_X1_3_given_A * P_X2_4_given_A * P_A\n",
    "P_B_given_X1_3_X2_4 = P_X1_3_given_B * P_X2_4_given_B * P_B\n",
    "\n",
    "# Normalize the probabilities\n",
    "P_A_given_X1_3_X2_4 /= (P_A_given_X1_3_X2_4 + P_B_given_X1_3_X2_4)\n",
    "P_B_given_X1_3_X2_4 /= (P_A_given_X1_3_X2_4 + P_B_given_X1_3_X2_4)\n",
    "\n",
    "# Display the results\n",
    "print(f\"P(A | X1=3, X2=4) = {P_A_given_X1_3_X2_4:.3f}\")\n",
    "print(f\"P(B | X1=3, X2=4) = {P_B_given_X1_3_X2_4:.3f}\")\n",
    "\n",
    "# Naive Bayes prediction\n",
    "prediction = 'A' if P_A_given_X1_3_X2_4 > P_B_given_X1_3_X2_4 else 'B'\n",
    "print(f\"Naive Bayes predicts the new instance belongs to Class {prediction}\")\n"
   ]
  },
  {
   "cell_type": "markdown",
   "id": "07fbb93d-87d0-490b-9600-27028aed28b6",
   "metadata": {},
   "source": [
    "------------------------------"
   ]
  },
  {
   "cell_type": "code",
   "execution_count": null,
   "id": "08787b77-2954-422b-acdd-e331b8cd5c39",
   "metadata": {},
   "outputs": [],
   "source": []
  }
 ],
 "metadata": {
  "kernelspec": {
   "display_name": "Python 3 (ipykernel)",
   "language": "python",
   "name": "python3"
  },
  "language_info": {
   "codemirror_mode": {
    "name": "ipython",
    "version": 3
   },
   "file_extension": ".py",
   "mimetype": "text/x-python",
   "name": "python",
   "nbconvert_exporter": "python",
   "pygments_lexer": "ipython3",
   "version": "3.10.8"
  }
 },
 "nbformat": 4,
 "nbformat_minor": 5
}
